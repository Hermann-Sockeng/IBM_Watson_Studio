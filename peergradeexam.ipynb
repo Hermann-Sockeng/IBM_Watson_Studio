{
    "cells": [
        {
            "metadata": {},
            "cell_type": "markdown",
            "source": "# My Jupyter Notebook on IBM Watson Studio"
        },
        {
            "metadata": {
                "collapsed": true
            },
            "cell_type": "markdown",
            "source": "### SOCKENG KOUSSOK Alex Hermann  \nI studied Mathematical Modeling and Scientific Computing, I am right now improving my Data science skills by taking IBM Data science professional certificate classes. I would like to take a Data science role in an institution or a compagny arround the world."
        },
        {
            "metadata": {},
            "cell_type": "markdown",
            "source": "*I am interested in data science because my dream is to use data to answer a question or make a strategy choice for a compagny or an institution.*"
        },
        {
            "metadata": {},
            "cell_type": "markdown",
            "source": "### The code below returns the remainder of dividing $25$ by $3$"
        },
        {
            "metadata": {},
            "cell_type": "code",
            "source": "r = 25 % 3\nr",
            "execution_count": 1,
            "outputs": [
                {
                    "output_type": "execute_result",
                    "execution_count": 1,
                    "data": {
                        "text/plain": "1"
                    },
                    "metadata": {}
                }
            ]
        },
        {
            "metadata": {},
            "cell_type": "markdown",
            "source": "1- Table  \n\n| Data science | First step| Second step | Third step\n| --- | --- | --- | --- |\n| Methodology | Business Understanding | Analytic approch | Data requirement |   \n\n2- Image    \n  \n  ![Benjamin Bannekat](https://octodex.github.com/images/bannekat.png))  \n    \n      \n3- Block quote  \n  \n  \"The main caracteristic of an aspirant data scientist is curiosity\"\n"
        },
        {
            "metadata": {},
            "cell_type": "code",
            "source": "",
            "execution_count": null,
            "outputs": []
        }
    ],
    "metadata": {
        "kernelspec": {
            "name": "python3",
            "display_name": "Python 3.10",
            "language": "python"
        },
        "language_info": {
            "name": "python",
            "version": "3.10.9",
            "mimetype": "text/x-python",
            "codemirror_mode": {
                "name": "ipython",
                "version": 3
            },
            "pygments_lexer": "ipython3",
            "nbconvert_exporter": "python",
            "file_extension": ".py"
        }
    },
    "nbformat": 4,
    "nbformat_minor": 1
}